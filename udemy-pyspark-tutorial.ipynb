{
 "cells": [
  {
   "cell_type": "markdown",
   "id": "8e5a3a63",
   "metadata": {
    "execution": {
     "iopub.execute_input": "2023-06-16T06:27:18.779625Z",
     "iopub.status.busy": "2023-06-16T06:27:18.779246Z",
     "iopub.status.idle": "2023-06-16T06:27:18.784244Z",
     "shell.execute_reply": "2023-06-16T06:27:18.783167Z",
     "shell.execute_reply.started": "2023-06-16T06:27:18.779597Z"
    },
    "papermill": {
     "duration": 0.010098,
     "end_time": "2023-06-16T11:07:31.278573",
     "exception": false,
     "start_time": "2023-06-16T11:07:31.268475",
     "status": "completed"
    },
    "tags": []
   },
   "source": [
    "# Pyspark End-To-End\n",
    "\n",
    "`Course - https://www.udemy.com/course/pyspark-end-to-end-developer-course-spark-with-python/learn/lecture/37180040#overview`\n",
    "\n",
    "## Topics -\n",
    "    - How to read flat file and tables using jbdc connection\n",
    "    - DataFrame API Selection\n",
    "    - DataFrame Where & Filter\n",
    "    - DataFrame API Sorting\n",
    "    - DataFrame API Set\n",
    "    - DataFrame API Join"
   ]
  },
  {
   "cell_type": "code",
   "execution_count": 1,
   "id": "e5392865",
   "metadata": {
    "execution": {
     "iopub.execute_input": "2023-06-16T11:07:31.300988Z",
     "iopub.status.busy": "2023-06-16T11:07:31.299748Z",
     "iopub.status.idle": "2023-06-16T11:08:11.011101Z",
     "shell.execute_reply": "2023-06-16T11:08:11.009775Z"
    },
    "papermill": {
     "duration": 39.72504,
     "end_time": "2023-06-16T11:08:11.013474",
     "exception": false,
     "start_time": "2023-06-16T11:07:31.288434",
     "status": "completed"
    },
    "tags": []
   },
   "outputs": [
    {
     "name": "stdout",
     "output_type": "stream",
     "text": [
      "Collecting pyspark\r\n",
      "  Downloading pyspark-3.4.0.tar.gz (310.8 MB)\r\n",
      "\u001b[2K     \u001b[90m━━━━━━━━━━━━━━━━━━━━━━━━━━━━━━━━━━━━━━━\u001b[0m \u001b[32m310.8/310.8 MB\u001b[0m \u001b[31m4.7 MB/s\u001b[0m eta \u001b[36m0:00:00\u001b[0m\r\n",
      "\u001b[?25h  Preparing metadata (setup.py) ... \u001b[?25l-\b \b\\\b \b|\b \bdone\r\n",
      "\u001b[?25hRequirement already satisfied: py4j==0.10.9.7 in /opt/conda/lib/python3.10/site-packages (from pyspark) (0.10.9.7)\r\n",
      "Building wheels for collected packages: pyspark\r\n",
      "  Building wheel for pyspark (setup.py) ... \u001b[?25l-\b \b\\\b \b|\b \b/\b \b-\b \b\\\b \b|\b \b/\b \b-\b \b\\\b \bdone\r\n",
      "\u001b[?25h  Created wheel for pyspark: filename=pyspark-3.4.0-py2.py3-none-any.whl size=311317146 sha256=7a84452b4f95251328d8d8b87a35ff2bd11d3a1ee5dd88f671cf9557672c6125\r\n",
      "  Stored in directory: /root/.cache/pip/wheels/7b/1b/4b/3363a1d04368e7ff0d408e57ff57966fcdf00583774e761327\r\n",
      "Successfully built pyspark\r\n",
      "Installing collected packages: pyspark\r\n",
      "Successfully installed pyspark-3.4.0\r\n",
      "\u001b[33mWARNING: Running pip as the 'root' user can result in broken permissions and conflicting behaviour with the system package manager. It is recommended to use a virtual environment instead: https://pip.pypa.io/warnings/venv\u001b[0m\u001b[33m\r\n",
      "\u001b[0m"
     ]
    }
   ],
   "source": [
    "!pip install pyspark"
   ]
  },
  {
   "cell_type": "code",
   "execution_count": 2,
   "id": "43f87b03",
   "metadata": {
    "_cell_guid": "b1076dfc-b9ad-4769-8c92-a6c4dae69d19",
    "_uuid": "8f2839f25d086af736a60e9eeb907d3b93b6e0e5",
    "execution": {
     "iopub.execute_input": "2023-06-16T11:08:11.040439Z",
     "iopub.status.busy": "2023-06-16T11:08:11.040014Z",
     "iopub.status.idle": "2023-06-16T11:08:15.943762Z",
     "shell.execute_reply": "2023-06-16T11:08:15.942582Z"
    },
    "papermill": {
     "duration": 4.919866,
     "end_time": "2023-06-16T11:08:15.945950",
     "exception": false,
     "start_time": "2023-06-16T11:08:11.026084",
     "status": "completed"
    },
    "tags": []
   },
   "outputs": [
    {
     "name": "stderr",
     "output_type": "stream",
     "text": [
      "Setting default log level to \"WARN\".\n",
      "To adjust logging level use sc.setLogLevel(newLevel). For SparkR, use setLogLevel(newLevel).\n",
      "23/06/16 11:08:14 WARN NativeCodeLoader: Unable to load native-hadoop library for your platform... using builtin-java classes where applicable\n"
     ]
    },
    {
     "name": "stdout",
     "output_type": "stream",
     "text": [
      "/kaggle/input/retail-db-tutorial/RetailDB SalesData/Customers/part-00000\n",
      "/kaggle/input/retail-db-tutorial/RetailDB SalesData/Orders/part-00000\n",
      "/kaggle/input/retail-db-tutorial/RetailDB SalesData/Products/part-00000\n",
      "/kaggle/input/retail-db-tutorial/RetailDB SalesData/Order_items/part-00000\n",
      "/kaggle/input/retail-db-tutorial/RetailDB SalesData/Categories/part-00000\n",
      "/kaggle/input/retail-db-tutorial/RetailDB SalesData/Departments/part-00000\n"
     ]
    }
   ],
   "source": [
    "import pyspark\n",
    "from pyspark.sql import SparkSession,functions\n",
    "from pyspark.sql.functions import *\n",
    "from pyspark.sql.types import StructField,StructType,IntegerType,StringType\n",
    "spark = SparkSession.builder.appName(\"Pyspark-Tutorial\").getOrCreate()\n",
    "\n",
    "import numpy as np # linear algebra\n",
    "import pandas as pd # data processing, CSV file I/O (e.g. pd.read_csv)\n",
    "import os\n",
    "for dirname, _, filenames in os.walk('/kaggle/input'):\n",
    "    for filename in filenames:\n",
    "        print(os.path.join(dirname, filename))"
   ]
  },
  {
   "cell_type": "markdown",
   "id": "1321eb56",
   "metadata": {
    "papermill": {
     "duration": 0.01222,
     "end_time": "2023-06-16T11:08:15.971002",
     "exception": false,
     "start_time": "2023-06-16T11:08:15.958782",
     "status": "completed"
    },
    "tags": []
   },
   "source": [
    "## How to read file using various techniques"
   ]
  },
  {
   "cell_type": "code",
   "execution_count": 3,
   "id": "ff41e033",
   "metadata": {
    "execution": {
     "iopub.execute_input": "2023-06-16T11:08:16.002210Z",
     "iopub.status.busy": "2023-06-16T11:08:16.000424Z",
     "iopub.status.idle": "2023-06-16T11:08:21.874421Z",
     "shell.execute_reply": "2023-06-16T11:08:21.873587Z"
    },
    "papermill": {
     "duration": 5.891242,
     "end_time": "2023-06-16T11:08:21.876284",
     "exception": false,
     "start_time": "2023-06-16T11:08:15.985042",
     "status": "completed"
    },
    "tags": []
   },
   "outputs": [
    {
     "name": "stderr",
     "output_type": "stream",
     "text": [
      "                                                                                \r"
     ]
    },
    {
     "name": "stdout",
     "output_type": "stream",
     "text": [
      "+-----+-------------------+-----------+----------+\n",
      "|ordid|           ord_date|ord_cust_id|ord_status|\n",
      "+-----+-------------------+-----------+----------+\n",
      "|    1|2013-07-25 00:00:00|      11599|    CLOSED|\n",
      "+-----+-------------------+-----------+----------+\n",
      "only showing top 1 row\n",
      "\n",
      "+-----+-------------------+-----------+----------+\n",
      "|ordid|           ord_date|ord_cust_id|ord_status|\n",
      "+-----+-------------------+-----------+----------+\n",
      "|    1|2013-07-25 00:00:00|      11599|    CLOSED|\n",
      "+-----+-------------------+-----------+----------+\n",
      "only showing top 1 row\n",
      "\n",
      "+-----+-------------------+-----------+----------+\n",
      "|ordid|           ord_date|ord_cust_id|ord_status|\n",
      "+-----+-------------------+-----------+----------+\n",
      "|    1|2013-07-25 00:00:00|      11599|    CLOSED|\n",
      "+-----+-------------------+-----------+----------+\n",
      "only showing top 1 row\n",
      "\n"
     ]
    }
   ],
   "source": [
    "ord_file_path = \"/kaggle/input/retail-db-tutorial/RetailDB SalesData/Orders\"\n",
    "ord = spark.read.load(ord_file_path,sep=\",\",format='csv',schema=('ordid int,ord_date timestamp,ord_cust_id int, ord_status string'))\n",
    "ord.show(1)\n",
    "\n",
    "ord = spark.read.csv(ord_file_path,sep=\",\",schema=('ordid int,ord_date timestamp,ord_cust_id int, ord_status string'))\n",
    "ord.show(1)\n",
    "\n",
    "ord = spark.read.format('csv').load(ord_file_path,sep=',',schema='ordid int,ord_date timestamp,ord_cust_id int, ord_status string')\n",
    "ord.show(1)"
   ]
  },
  {
   "cell_type": "markdown",
   "id": "70d04c28",
   "metadata": {
    "papermill": {
     "duration": 0.012555,
     "end_time": "2023-06-16T11:08:21.902593",
     "exception": false,
     "start_time": "2023-06-16T11:08:21.890038",
     "status": "completed"
    },
    "tags": []
   },
   "source": [
    "## How to read table and jdbc connection"
   ]
  },
  {
   "cell_type": "markdown",
   "id": "83e3e94d",
   "metadata": {
    "execution": {
     "iopub.execute_input": "2023-06-16T07:15:37.969958Z",
     "iopub.status.busy": "2023-06-16T07:15:37.969535Z",
     "iopub.status.idle": "2023-06-16T07:15:37.983078Z",
     "shell.execute_reply": "2023-06-16T07:15:37.980808Z",
     "shell.execute_reply.started": "2023-06-16T07:15:37.969921Z"
    },
    "papermill": {
     "duration": 0.012705,
     "end_time": "2023-06-16T11:08:21.928527",
     "exception": false,
     "start_time": "2023-06-16T11:08:21.915822",
     "status": "completed"
    },
    "tags": []
   },
   "source": [
    "spark.read.jdbc(\"connection string / jdbc:mysql://localhost:3306/emp\",\"table\",\n",
    "                properties={\"user\":\"root\",\"password\":\"root\",\"driver\":\"com.mysql.cj.jdbc.Driver\"})\n",
    "\n",
    "spark.read.format(\"jdbc\") \\\n",
    ".option(\"url\",\"connection string\") \\\n",
    ".option(\"driver\",\"com.mysql.cj.jdbc.Driver\") \\\n",
    ".option(\"user\",\"root\")\n",
    ".option(\"password\":\"root\")\n",
    ".option(\"dbtable\",\"employee\")\n",
    "# .option(\"dbtable\",\"select empid, salary from employee where gender = 'M' \")\n",
    "# .option(\"query\",\" select empid, salary from employee where gender = 'M' \")\n",
    ".load()"
   ]
  },
  {
   "cell_type": "markdown",
   "id": "198cb712",
   "metadata": {
    "papermill": {
     "duration": 0.01265,
     "end_time": "2023-06-16T11:08:21.954190",
     "exception": false,
     "start_time": "2023-06-16T11:08:21.941540",
     "status": "completed"
    },
    "tags": []
   },
   "source": [
    "# DataFrame API Selection\n",
    "\n",
    "### Select\n",
    "Select one or more columns\n",
    "Applying necessary functions on select\n",
    "\n",
    "### SelectExpr\n",
    "This is a variant of select that accepts SQL expressions.\n",
    "If we want to use any functions available in SQL but not in Spark Built-in functions, then we can use selectExpr\n",
    "            -- explode\n",
    "\n",
    "### withColumn(colName, col)\n",
    "Applied transformation to only selected columns.\n",
    "The first argument is an alias name. If we give an alias name same as a column name, the transformations will apply\n",
    "on the same column.\n",
    "Otherwise a new column will be formed. Avoid giving alias name same as column name.\n",
    "ord.withColumn('order_month',substring(orderDF.order_date,1,10)).show()\n",
    "\n",
    "\n",
    "### withColumnRenamed(existingCol, newCol)\n",
    "Rename Existing Column.\n",
    "ord.withColumnRenamed('order_id','order_id1').show()\n",
    "\n",
    "### drop(*cols)\n",
    "Drop a column.\n",
    "order = ord.drop('order_id','order_date')\n",
    "\n",
    "### dropDuplicates(subset=None)\n",
    "Drop duplicate rows.\n",
    "Optionally can consider only subset of columns.\n",
    "emp.dropDuplicates().show()\n",
    "emp.dropDuplicates((\"name\",\"score1\",\"score2\")).show()"
   ]
  },
  {
   "cell_type": "code",
   "execution_count": 4,
   "id": "1cf9d96b",
   "metadata": {
    "execution": {
     "iopub.execute_input": "2023-06-16T11:08:21.981554Z",
     "iopub.status.busy": "2023-06-16T11:08:21.981249Z",
     "iopub.status.idle": "2023-06-16T11:08:22.074723Z",
     "shell.execute_reply": "2023-06-16T11:08:22.073702Z"
    },
    "papermill": {
     "duration": 0.11027,
     "end_time": "2023-06-16T11:08:22.077427",
     "exception": false,
     "start_time": "2023-06-16T11:08:21.967157",
     "status": "completed"
    },
    "tags": []
   },
   "outputs": [],
   "source": [
    "ord\n",
    "data = [('Robert',35,40,40),('Robert',35,40,40),('Ram',31,33,29),('Ram',31,33,91)]\n",
    "emp = spark.createDataFrame(data=data,schema=['name','score1','score2','score3'])"
   ]
  },
  {
   "cell_type": "code",
   "execution_count": 5,
   "id": "4edf7677",
   "metadata": {
    "execution": {
     "iopub.execute_input": "2023-06-16T11:08:22.105502Z",
     "iopub.status.busy": "2023-06-16T11:08:22.105180Z",
     "iopub.status.idle": "2023-06-16T11:08:22.560502Z",
     "shell.execute_reply": "2023-06-16T11:08:22.559691Z"
    },
    "papermill": {
     "duration": 0.471658,
     "end_time": "2023-06-16T11:08:22.562644",
     "exception": false,
     "start_time": "2023-06-16T11:08:22.090986",
     "status": "completed"
    },
    "tags": []
   },
   "outputs": [
    {
     "name": "stdout",
     "output_type": "stream",
     "text": [
      "+-----+-----+-----+\n",
      "|ordid|ordid|ordid|\n",
      "+-----+-----+-----+\n",
      "|    1|    1|    1|\n",
      "|    2|    2|    2|\n",
      "|    3|    3|    3|\n",
      "|    4|    4|    4|\n",
      "|    5|    5|    5|\n",
      "+-----+-----+-----+\n",
      "only showing top 5 rows\n",
      "\n",
      "+---------------+---------------+\n",
      "|      lower_sts|     ord_status|\n",
      "+---------------+---------------+\n",
      "|         closed|         CLOSED|\n",
      "|pending_payment|PENDING_PAYMENT|\n",
      "|       complete|       COMPLETE|\n",
      "|         closed|         CLOSED|\n",
      "|       complete|       COMPLETE|\n",
      "+---------------+---------------+\n",
      "only showing top 5 rows\n",
      "\n"
     ]
    }
   ],
   "source": [
    "ord.select(\"ordid\",'ordid',ord.ordid).show(5)\n",
    "\n",
    "ord.select(lower(\"ord_status\").alias(\"lower_sts\"),\"ord_status\").show(5)"
   ]
  },
  {
   "cell_type": "code",
   "execution_count": 6,
   "id": "415324fd",
   "metadata": {
    "execution": {
     "iopub.execute_input": "2023-06-16T11:08:22.602756Z",
     "iopub.status.busy": "2023-06-16T11:08:22.602296Z",
     "iopub.status.idle": "2023-06-16T11:08:22.926337Z",
     "shell.execute_reply": "2023-06-16T11:08:22.925501Z"
    },
    "papermill": {
     "duration": 0.347031,
     "end_time": "2023-06-16T11:08:22.928286",
     "exception": false,
     "start_time": "2023-06-16T11:08:22.581255",
     "status": "completed"
    },
    "tags": []
   },
   "outputs": [
    {
     "name": "stdout",
     "output_type": "stream",
     "text": [
      "+--------+---------+-------------------+\n",
      "|ord_year|ord_month|           ord_date|\n",
      "+--------+---------+-------------------+\n",
      "|    2013|       07|2013-07-25 00:00:00|\n",
      "|    2013|       07|2013-07-25 00:00:00|\n",
      "|    2013|       07|2013-07-25 00:00:00|\n",
      "|    2013|       07|2013-07-25 00:00:00|\n",
      "|    2013|       07|2013-07-25 00:00:00|\n",
      "+--------+---------+-------------------+\n",
      "only showing top 5 rows\n",
      "\n"
     ]
    }
   ],
   "source": [
    "# ord.show(5)\n",
    "ord.selectExpr(\"substring(ord_date,1,4) as ord_year\",\"ord_date\") \\\n",
    ".selectExpr(\"ord_year\",\"substring(ord_date,6,2) as ord_month\",\"ord_date\") \\\n",
    ".selectExpr(\"ord_date\",\"ord_month\",\"ord_year\",\"substring(ord_date,9,2) as ord_day\") \\\n",
    ".select(\"ord_year\",\"ord_month\",\"ord_date\") \\\n",
    ".show(5)"
   ]
  },
  {
   "cell_type": "code",
   "execution_count": 7,
   "id": "3e73fb02",
   "metadata": {
    "execution": {
     "iopub.execute_input": "2023-06-16T11:08:22.956283Z",
     "iopub.status.busy": "2023-06-16T11:08:22.955953Z",
     "iopub.status.idle": "2023-06-16T11:08:23.337050Z",
     "shell.execute_reply": "2023-06-16T11:08:23.336126Z"
    },
    "papermill": {
     "duration": 0.397717,
     "end_time": "2023-06-16T11:08:23.339269",
     "exception": false,
     "start_time": "2023-06-16T11:08:22.941552",
     "status": "completed"
    },
    "tags": []
   },
   "outputs": [
    {
     "name": "stdout",
     "output_type": "stream",
     "text": [
      "+-----+-------------------+-----------+---------------+--------+\n",
      "|ordid|           ord_date|ord_cust_id|     ord_status|ord_year|\n",
      "+-----+-------------------+-----------+---------------+--------+\n",
      "|    1|2013-07-25 00:00:00|      11599|         CLOSED|    2013|\n",
      "|    2|2013-07-25 00:00:00|        256|PENDING_PAYMENT|    2013|\n",
      "|    3|2013-07-25 00:00:00|      12111|       COMPLETE|    2013|\n",
      "|    4|2013-07-25 00:00:00|       8827|         CLOSED|    2013|\n",
      "|    5|2013-07-25 00:00:00|      11318|       COMPLETE|    2013|\n",
      "+-----+-------------------+-----------+---------------+--------+\n",
      "only showing top 5 rows\n",
      "\n",
      "+-----+--------+-----------+---------------+\n",
      "|ordid|ord_date|ord_cust_id|     ord_status|\n",
      "+-----+--------+-----------+---------------+\n",
      "|    1|    2013|      11599|         CLOSED|\n",
      "|    2|    2013|        256|PENDING_PAYMENT|\n",
      "|    3|    2013|      12111|       COMPLETE|\n",
      "|    4|    2013|       8827|         CLOSED|\n",
      "|    5|    2013|      11318|       COMPLETE|\n",
      "+-----+--------+-----------+---------------+\n",
      "only showing top 5 rows\n",
      "\n"
     ]
    }
   ],
   "source": [
    "ord.withColumn(\"ord_year\",substring(\"ord_date\",1,4)).show(5)\n",
    "\n",
    "ord.withColumn(\"ord_date\",substring(\"ord_date\",1,4)).show(5)"
   ]
  },
  {
   "cell_type": "code",
   "execution_count": 8,
   "id": "3d10425f",
   "metadata": {
    "execution": {
     "iopub.execute_input": "2023-06-16T11:08:23.368316Z",
     "iopub.status.busy": "2023-06-16T11:08:23.367986Z",
     "iopub.status.idle": "2023-06-16T11:08:23.494324Z",
     "shell.execute_reply": "2023-06-16T11:08:23.493359Z"
    },
    "papermill": {
     "duration": 0.143328,
     "end_time": "2023-06-16T11:08:23.496532",
     "exception": false,
     "start_time": "2023-06-16T11:08:23.353204",
     "status": "completed"
    },
    "tags": []
   },
   "outputs": [
    {
     "name": "stdout",
     "output_type": "stream",
     "text": [
      "+-----+-------------------+-----------+---------------+\n",
      "|ordid|           ord_date|ord_cust_id|        ord_sts|\n",
      "+-----+-------------------+-----------+---------------+\n",
      "|    1|2013-07-25 00:00:00|      11599|         CLOSED|\n",
      "|    2|2013-07-25 00:00:00|        256|PENDING_PAYMENT|\n",
      "|    3|2013-07-25 00:00:00|      12111|       COMPLETE|\n",
      "|    4|2013-07-25 00:00:00|       8827|         CLOSED|\n",
      "|    5|2013-07-25 00:00:00|      11318|       COMPLETE|\n",
      "+-----+-------------------+-----------+---------------+\n",
      "only showing top 5 rows\n",
      "\n"
     ]
    }
   ],
   "source": [
    "ord.withColumnRenamed(\"ord_status\",\"ord_sts\").show(5)"
   ]
  },
  {
   "cell_type": "code",
   "execution_count": 9,
   "id": "60152b4c",
   "metadata": {
    "execution": {
     "iopub.execute_input": "2023-06-16T11:08:23.533193Z",
     "iopub.status.busy": "2023-06-16T11:08:23.532811Z",
     "iopub.status.idle": "2023-06-16T11:08:23.827621Z",
     "shell.execute_reply": "2023-06-16T11:08:23.826703Z"
    },
    "papermill": {
     "duration": 0.315447,
     "end_time": "2023-06-16T11:08:23.829850",
     "exception": false,
     "start_time": "2023-06-16T11:08:23.514403",
     "status": "completed"
    },
    "tags": []
   },
   "outputs": [
    {
     "name": "stdout",
     "output_type": "stream",
     "text": [
      "+-----+-----------+\n",
      "|ordid|ord_cust_id|\n",
      "+-----+-----------+\n",
      "|    1|      11599|\n",
      "|    2|        256|\n",
      "+-----+-----------+\n",
      "only showing top 2 rows\n",
      "\n",
      "+-----+-------------------+-----------+\n",
      "|ordid|           ord_date|ord_cust_id|\n",
      "+-----+-------------------+-----------+\n",
      "|    1|2013-07-25 00:00:00|      11599|\n",
      "|    2|2013-07-25 00:00:00|        256|\n",
      "+-----+-------------------+-----------+\n",
      "only showing top 2 rows\n",
      "\n"
     ]
    }
   ],
   "source": [
    "ord.drop('ord_status','ord_date').show(2)\n",
    "ord.drop('ord_status').show(2)"
   ]
  },
  {
   "cell_type": "code",
   "execution_count": 10,
   "id": "605e5ed0",
   "metadata": {
    "execution": {
     "iopub.execute_input": "2023-06-16T11:08:23.867881Z",
     "iopub.status.busy": "2023-06-16T11:08:23.867468Z",
     "iopub.status.idle": "2023-06-16T11:08:27.795993Z",
     "shell.execute_reply": "2023-06-16T11:08:27.794956Z"
    },
    "papermill": {
     "duration": 3.950847,
     "end_time": "2023-06-16T11:08:27.798756",
     "exception": false,
     "start_time": "2023-06-16T11:08:23.847909",
     "status": "completed"
    },
    "tags": []
   },
   "outputs": [
    {
     "name": "stderr",
     "output_type": "stream",
     "text": [
      "                                                                                \r"
     ]
    },
    {
     "name": "stdout",
     "output_type": "stream",
     "text": [
      "+------+------+------+------+\n",
      "|  name|score1|score2|score3|\n",
      "+------+------+------+------+\n",
      "|Robert|    35|    40|    40|\n",
      "|Robert|    35|    40|    40|\n",
      "|   Ram|    31|    33|    29|\n",
      "|   Ram|    31|    33|    91|\n",
      "+------+------+------+------+\n",
      "\n",
      "+------+------+------+------+\n",
      "|  name|score1|score2|score3|\n",
      "+------+------+------+------+\n",
      "|Robert|    35|    40|    40|\n",
      "|   Ram|    31|    33|    29|\n",
      "|   Ram|    31|    33|    91|\n",
      "+------+------+------+------+\n",
      "\n",
      "+------+------+------+------+\n",
      "|  name|score1|score2|score3|\n",
      "+------+------+------+------+\n",
      "|Robert|    35|    40|    40|\n",
      "|   Ram|    31|    33|    29|\n",
      "+------+------+------+------+\n",
      "\n",
      "+------+------+------+------+\n",
      "|  name|score1|score2|score3|\n",
      "+------+------+------+------+\n",
      "|Robert|    35|    40|    40|\n",
      "|   Ram|    31|    33|    29|\n",
      "+------+------+------+------+\n",
      "\n"
     ]
    }
   ],
   "source": [
    "emp.show()\n",
    "\n",
    "emp.dropDuplicates().show() ## only 1 record filtered\n",
    "\n",
    "emp.dropDuplicates([\"name\"]).show()\n",
    "\n",
    "emp.dropDuplicates([\"name\",\"score2\"]).show()"
   ]
  },
  {
   "cell_type": "markdown",
   "id": "65eefec7",
   "metadata": {
    "papermill": {
     "duration": 0.013325,
     "end_time": "2023-06-16T11:08:27.826226",
     "exception": false,
     "start_time": "2023-06-16T11:08:27.812901",
     "status": "completed"
    },
    "tags": []
   },
   "source": [
    "# DataFrame API Filter\n",
    "\n",
    "### filter(condition): (Its alias ‘where’)\n",
    "Filter rows using a given condition\n",
    "\n",
    "use '&' for 'and‘. '|' for 'or‘. (boolean expressions)\n",
    "\n",
    "Use column function isin() for multiple search Or use IN Operator for SQL Style syntax."
   ]
  },
  {
   "cell_type": "code",
   "execution_count": 11,
   "id": "f4472859",
   "metadata": {
    "execution": {
     "iopub.execute_input": "2023-06-16T11:08:27.855037Z",
     "iopub.status.busy": "2023-06-16T11:08:27.854638Z",
     "iopub.status.idle": "2023-06-16T11:08:29.208597Z",
     "shell.execute_reply": "2023-06-16T11:08:29.207337Z"
    },
    "papermill": {
     "duration": 1.37097,
     "end_time": "2023-06-16T11:08:29.211047",
     "exception": false,
     "start_time": "2023-06-16T11:08:27.840077",
     "status": "completed"
    },
    "tags": []
   },
   "outputs": [
    {
     "name": "stdout",
     "output_type": "stream",
     "text": [
      "+-----+-------------------+-----------+---------------+\n",
      "|ordid|           ord_date|ord_cust_id|     ord_status|\n",
      "+-----+-------------------+-----------+---------------+\n",
      "|   11|2013-07-25 00:00:00|        918| PAYMENT_REVIEW|\n",
      "|   12|2013-07-25 00:00:00|       1837|         CLOSED|\n",
      "|   13|2013-07-25 00:00:00|       9149|PENDING_PAYMENT|\n",
      "|   14|2013-07-25 00:00:00|       9842|     PROCESSING|\n",
      "|   15|2013-07-25 00:00:00|       2568|       COMPLETE|\n",
      "+-----+-------------------+-----------+---------------+\n",
      "only showing top 5 rows\n",
      "\n",
      "+-----+-------------------+-----------+---------------+\n",
      "|ordid|           ord_date|ord_cust_id|     ord_status|\n",
      "+-----+-------------------+-----------+---------------+\n",
      "|   11|2013-07-25 00:00:00|        918| PAYMENT_REVIEW|\n",
      "|   12|2013-07-25 00:00:00|       1837|         CLOSED|\n",
      "|   13|2013-07-25 00:00:00|       9149|PENDING_PAYMENT|\n",
      "|   14|2013-07-25 00:00:00|       9842|     PROCESSING|\n",
      "|   15|2013-07-25 00:00:00|       2568|       COMPLETE|\n",
      "+-----+-------------------+-----------+---------------+\n",
      "only showing top 5 rows\n",
      "\n",
      "+-----+-------------------+-----------+---------------+\n",
      "|ordid|           ord_date|ord_cust_id|     ord_status|\n",
      "+-----+-------------------+-----------+---------------+\n",
      "|   10|2013-07-25 00:00:00|       5648|PENDING_PAYMENT|\n",
      "|   20|2013-07-25 00:00:00|       9198|     PROCESSING|\n",
      "+-----+-------------------+-----------+---------------+\n",
      "\n",
      "+-----+-------------------+-----------+---------------+\n",
      "|ordid|           ord_date|ord_cust_id|     ord_status|\n",
      "+-----+-------------------+-----------+---------------+\n",
      "|   10|2013-07-25 00:00:00|       5648|PENDING_PAYMENT|\n",
      "|   20|2013-07-25 00:00:00|       9198|     PROCESSING|\n",
      "+-----+-------------------+-----------+---------------+\n",
      "\n",
      "+-----+-------------------+-----------+----------+\n",
      "|ordid|           ord_date|ord_cust_id|ord_status|\n",
      "+-----+-------------------+-----------+----------+\n",
      "|    1|2013-07-25 00:00:00|      11599|    CLOSED|\n",
      "|    4|2013-07-25 00:00:00|       8827|    CLOSED|\n",
      "|   12|2013-07-25 00:00:00|       1837|    CLOSED|\n",
      "|   18|2013-07-25 00:00:00|       1205|    CLOSED|\n",
      "|   21|2013-07-25 00:00:00|       2711|   PENDING|\n",
      "+-----+-------------------+-----------+----------+\n",
      "only showing top 5 rows\n",
      "\n",
      "+-----+-------------------+-----------+----------+\n",
      "|ordid|           ord_date|ord_cust_id|ord_status|\n",
      "+-----+-------------------+-----------+----------+\n",
      "|    1|2013-07-25 00:00:00|      11599|    CLOSED|\n",
      "|    4|2013-07-25 00:00:00|       8827|    CLOSED|\n",
      "|   12|2013-07-25 00:00:00|       1837|    CLOSED|\n",
      "|   18|2013-07-25 00:00:00|       1205|    CLOSED|\n",
      "|   21|2013-07-25 00:00:00|       2711|   PENDING|\n",
      "+-----+-------------------+-----------+----------+\n",
      "only showing top 5 rows\n",
      "\n",
      "+-----+-------------------+-----------+----------+\n",
      "|ordid|           ord_date|ord_cust_id|ord_status|\n",
      "+-----+-------------------+-----------+----------+\n",
      "|    1|2013-07-25 00:00:00|      11599|    CLOSED|\n",
      "|    4|2013-07-25 00:00:00|       8827|    CLOSED|\n",
      "|   12|2013-07-25 00:00:00|       1837|    CLOSED|\n",
      "|   18|2013-07-25 00:00:00|       1205|    CLOSED|\n",
      "|   24|2013-07-25 00:00:00|      11441|    CLOSED|\n",
      "+-----+-------------------+-----------+----------+\n",
      "only showing top 5 rows\n",
      "\n"
     ]
    }
   ],
   "source": [
    "# &\n",
    "ord.where((ord.ordid > 10) & (ord.ordid < 20)).show(5)\n",
    "\n",
    "ord.filter((ord.ordid > 10) & (ord.ordid < 20)).show(5)\n",
    "\n",
    "# |\n",
    "ord.where((ord.ordid == 10) | (ord.ordid == 20)).show(5)\n",
    "\n",
    "ord.where((ord.ordid == 10) | (ord.ordid == 20)).show(5)\n",
    "\n",
    "# isin\n",
    "ord.where(ord.ord_status.isin(\"CLOSED\",\"PENDING\")).show(5)\n",
    "ord.filter(ord.ord_status.isin(\"CLOSED\",\"PENDING\")).show(5)\n",
    "\n",
    "# sql like where optional\n",
    "ord.where(\"ord_status in ('CLOSED','NOT-PENDING') \").show(5)"
   ]
  },
  {
   "cell_type": "markdown",
   "id": "89d20a10",
   "metadata": {
    "papermill": {
     "duration": 0.020329,
     "end_time": "2023-06-16T11:08:29.251804",
     "exception": false,
     "start_time": "2023-06-16T11:08:29.231475",
     "status": "completed"
    },
    "tags": []
   },
   "source": [
    "# DataFrame APIs Sort\n",
    "\n",
    "\n",
    "### sort() or orderBy()\n",
    "orderBy() is an alias for .sort()\n",
    "Sort specific column(s).\n",
    "\n",
    "### sortWithinPartitions\n",
    "At time, we may not want sort globally, but with in a group. In that case we can use sortWithinPartitions."
   ]
  },
  {
   "cell_type": "code",
   "execution_count": 12,
   "id": "475e499b",
   "metadata": {
    "execution": {
     "iopub.execute_input": "2023-06-16T11:08:29.293565Z",
     "iopub.status.busy": "2023-06-16T11:08:29.293183Z",
     "iopub.status.idle": "2023-06-16T11:08:30.762370Z",
     "shell.execute_reply": "2023-06-16T11:08:30.760952Z"
    },
    "papermill": {
     "duration": 1.492839,
     "end_time": "2023-06-16T11:08:30.764970",
     "exception": false,
     "start_time": "2023-06-16T11:08:29.272131",
     "status": "completed"
    },
    "tags": []
   },
   "outputs": [
    {
     "name": "stdout",
     "output_type": "stream",
     "text": [
      "+-----+-------------------+-----------+---------------+\n",
      "|ordid|           ord_date|ord_cust_id|     ord_status|\n",
      "+-----+-------------------+-----------+---------------+\n",
      "|   69|2013-07-25 00:00:00|       2821|SUSPECTED_FRAUD|\n",
      "|  246|2013-07-26 00:00:00|       9616|SUSPECTED_FRAUD|\n",
      "+-----+-------------------+-----------+---------------+\n",
      "only showing top 2 rows\n",
      "\n",
      "+-----+-------------------+-----------+---------------+\n",
      "|ordid|           ord_date|ord_cust_id|     ord_status|\n",
      "+-----+-------------------+-----------+---------------+\n",
      "|   69|2013-07-25 00:00:00|       2821|SUSPECTED_FRAUD|\n",
      "|  246|2013-07-26 00:00:00|       9616|SUSPECTED_FRAUD|\n",
      "+-----+-------------------+-----------+---------------+\n",
      "only showing top 2 rows\n",
      "\n",
      "+-----+-------------------+-----------+----------+\n",
      "|ordid|           ord_date|ord_cust_id|ord_status|\n",
      "+-----+-------------------+-----------+----------+\n",
      "|19709|2013-11-24 00:00:00|         18|  CANCELED|\n",
      "|11256|2013-10-02 00:00:00|         35|  CANCELED|\n",
      "+-----+-------------------+-----------+----------+\n",
      "only showing top 2 rows\n",
      "\n",
      "+-----+-------------------+-----------+---------------+\n",
      "|ordid|           ord_date|ord_cust_id|     ord_status|\n",
      "+-----+-------------------+-----------+---------------+\n",
      "|41831|2014-04-09 00:00:00|         16|SUSPECTED_FRAUD|\n",
      "| 6521|2013-09-04 00:00:00|         23|SUSPECTED_FRAUD|\n",
      "+-----+-------------------+-----------+---------------+\n",
      "only showing top 2 rows\n",
      "\n"
     ]
    }
   ],
   "source": [
    "ord.sort(ord.ord_status.desc()).show(2)\n",
    "ord.sort(col(\"ord_status\").desc()).show(2)\n",
    "ord.sort(\"ord_status\",\"ord_cust_id\").show(2)\n",
    "ord.sort(\"ord_status\",\"ord_cust_id\",ascending=[0,1]).show(2)"
   ]
  },
  {
   "cell_type": "code",
   "execution_count": 13,
   "id": "5d9948e5",
   "metadata": {
    "execution": {
     "iopub.execute_input": "2023-06-16T11:08:30.803991Z",
     "iopub.status.busy": "2023-06-16T11:08:30.803036Z",
     "iopub.status.idle": "2023-06-16T11:08:31.828733Z",
     "shell.execute_reply": "2023-06-16T11:08:31.827397Z"
    },
    "papermill": {
     "duration": 1.045736,
     "end_time": "2023-06-16T11:08:31.831182",
     "exception": false,
     "start_time": "2023-06-16T11:08:30.785446",
     "status": "completed"
    },
    "tags": []
   },
   "outputs": [
    {
     "name": "stdout",
     "output_type": "stream",
     "text": [
      "+----+----+------+\n",
      "|col1|col2|partid|\n",
      "+----+----+------+\n",
      "|   a|   1|     1|\n",
      "|   b|   2|     1|\n",
      "|   c|   3|     0|\n",
      "|   d|   4|     0|\n",
      "|   e|   5|     1|\n",
      "+----+----+------+\n",
      "\n",
      "+----+----+------+\n",
      "|col1|col2|partid|\n",
      "+----+----+------+\n",
      "|   c|   3|     0|\n",
      "|   d|   4|     0|\n",
      "|   a|   1|     1|\n",
      "|   b|   2|     1|\n",
      "|   e|   5|     1|\n",
      "+----+----+------+\n",
      "\n"
     ]
    }
   ],
   "source": [
    "data = [(\"a\",1),(\"b\",2),(\"c\",3),(\"d\",4),(\"e\",5)]\n",
    "df = spark.createDataFrame(data,schema='col1 string,col2 int')\n",
    "df = df.repartition(2)\n",
    "df = df.withColumn(\"partid\",spark_partition_id())\n",
    "\n",
    "df.sort(df.col1).show()\n",
    "df.sortWithinPartitions(df.col1).show()"
   ]
  },
  {
   "cell_type": "markdown",
   "id": "c0f646e7",
   "metadata": {
    "papermill": {
     "duration": 0.017058,
     "end_time": "2023-06-16T11:08:31.869735",
     "exception": false,
     "start_time": "2023-06-16T11:08:31.852677",
     "status": "completed"
    },
    "tags": []
   },
   "source": [
    "## DataFrame APIs : Set Operators\n",
    "\n",
    "### union() and unionAll():\n",
    "Same and contains duplicate values\n",
    "Use distinct after union or unionAll to remove duplicates\n",
    "\n",
    "### unionByName():\n",
    "The difference between this function and :func:`union` is that this function\n",
    "resolves columns by name (not by position)\n",
    "\n",
    "### intersect(): \n",
    "Containing rows in both DataFrames. Removed duplicates\n",
    "\n",
    "### intersectAll():\n",
    "Same as intersect. But retains the duplicates\n",
    "\n",
    "### exceptAll():\n",
    "Rows present in one DataFrame but not in another"
   ]
  },
  {
   "cell_type": "code",
   "execution_count": 14,
   "id": "a84f4ebe",
   "metadata": {
    "execution": {
     "iopub.execute_input": "2023-06-16T11:08:31.910273Z",
     "iopub.status.busy": "2023-06-16T11:08:31.909894Z",
     "iopub.status.idle": "2023-06-16T11:08:32.252105Z",
     "shell.execute_reply": "2023-06-16T11:08:32.251325Z"
    },
    "papermill": {
     "duration": 0.365989,
     "end_time": "2023-06-16T11:08:32.255160",
     "exception": false,
     "start_time": "2023-06-16T11:08:31.889171",
     "status": "completed"
    },
    "tags": []
   },
   "outputs": [
    {
     "name": "stdout",
     "output_type": "stream",
     "text": [
      "+---+\n",
      "| id|\n",
      "+---+\n",
      "|  0|\n",
      "|  1|\n",
      "|  2|\n",
      "|  3|\n",
      "|  3|\n",
      "|  4|\n",
      "+---+\n",
      "\n",
      "+---+\n",
      "| id|\n",
      "+---+\n",
      "|  0|\n",
      "|  1|\n",
      "|  2|\n",
      "|  3|\n",
      "|  3|\n",
      "|  4|\n",
      "+---+\n",
      "\n"
     ]
    }
   ],
   "source": [
    "df1 = spark.range(4)\n",
    "df2 = spark.range(3,5)\n",
    "\n",
    "# Union and UnionAll performs same way\n",
    "\n",
    "df1.union(df2).show()\n",
    "df1.unionAll(df2).show()"
   ]
  },
  {
   "cell_type": "code",
   "execution_count": 15,
   "id": "83a6754f",
   "metadata": {
    "execution": {
     "iopub.execute_input": "2023-06-16T11:08:32.302420Z",
     "iopub.status.busy": "2023-06-16T11:08:32.302035Z",
     "iopub.status.idle": "2023-06-16T11:08:33.115378Z",
     "shell.execute_reply": "2023-06-16T11:08:33.114106Z"
    },
    "papermill": {
     "duration": 0.84031,
     "end_time": "2023-06-16T11:08:33.118442",
     "exception": false,
     "start_time": "2023-06-16T11:08:32.278132",
     "status": "completed"
    },
    "tags": []
   },
   "outputs": [
    {
     "name": "stdout",
     "output_type": "stream",
     "text": [
      "+---+\n",
      "| id|\n",
      "+---+\n",
      "|  3|\n",
      "+---+\n",
      "\n",
      "+---+\n",
      "| id|\n",
      "+---+\n",
      "|  3|\n",
      "+---+\n",
      "\n"
     ]
    }
   ],
   "source": [
    "df1.intersect(df2).show()\n",
    "df1.intersectAll(df2).show()"
   ]
  },
  {
   "cell_type": "markdown",
   "id": "270bea84",
   "metadata": {
    "papermill": {
     "duration": 0.034661,
     "end_time": "2023-06-16T11:08:33.176321",
     "exception": false,
     "start_time": "2023-06-16T11:08:33.141660",
     "status": "completed"
    },
    "tags": []
   },
   "source": [
    "## DataFrame APIs : Join\n",
    "\n",
    "Join Type\n",
    "inner INNER JOIN, JOIN\n",
    "outer, full, fullouter,\n",
    "full_outer\n",
    "FULL OUTER JOIN\n",
    "left,\n",
    "left_outer,leftouter\n",
    "LEFT JOIN\n",
    "right,right_outer,rig\n",
    "htouter\n",
    "RIGHT JOIN\n",
    "cross CROSS JOIN\n",
    "left_anti, leftanti\n",
    "leftsemi,left_semi"
   ]
  },
  {
   "cell_type": "code",
   "execution_count": 16,
   "id": "f7b7b59c",
   "metadata": {
    "execution": {
     "iopub.execute_input": "2023-06-16T11:08:33.221793Z",
     "iopub.status.busy": "2023-06-16T11:08:33.221419Z",
     "iopub.status.idle": "2023-06-16T11:08:36.438226Z",
     "shell.execute_reply": "2023-06-16T11:08:36.437235Z"
    },
    "papermill": {
     "duration": 3.241333,
     "end_time": "2023-06-16T11:08:36.440932",
     "exception": false,
     "start_time": "2023-06-16T11:08:33.199599",
     "status": "completed"
    },
    "tags": []
   },
   "outputs": [
    {
     "name": "stdout",
     "output_type": "stream",
     "text": [
      "+----------+-------+-------+\n",
      "|employeeid|empname|country|\n",
      "+----------+-------+-------+\n",
      "|         2|    Ria|    USA|\n",
      "+----------+-------+-------+\n",
      "\n",
      "+-----+-------+\n",
      "|empid|empname|\n",
      "+-----+-------+\n",
      "|    1| Robert|\n",
      "|    3|  James|\n",
      "+-----+-------+\n",
      "\n",
      "+-----+-------+-------+\n",
      "|empid|empname|country|\n",
      "+-----+-------+-------+\n",
      "|    2|    Ria|    USA|\n",
      "|    1| Robert|   null|\n",
      "|    3|  James|   null|\n",
      "+-----+-------+-------+\n",
      "\n",
      "+-----+-------+-------+\n",
      "|empid|empname|country|\n",
      "+-----+-------+-------+\n",
      "| null|   null|  India|\n",
      "|    1| Robert|   null|\n",
      "|    2|    Ria|    USA|\n",
      "|    3|  James|   null|\n",
      "+-----+-------+-------+\n",
      "\n"
     ]
    }
   ],
   "source": [
    "df1 = spark.createDataFrame(data=[(1,'Robert'),(2,'Ria'),(3,'James')],schema='empid int, empname string')\n",
    "df2 = spark.createDataFrame(data=[(2,'USA'),(4,'India')],schema='empid int, country string')\n",
    "\n",
    "# Inner Join\n",
    "df1.join(df2,df1.empid == df2.empid).select(df1.empid.alias(\"employeeid\"),df1.empname,df2.country).show()\n",
    "\n",
    "# left anti join\n",
    "# cannot get right table attributes and it executes faster as compared to inner as it doesn't check right/second table attributes\n",
    "df1.join(df2,df1.empid == df2.empid,\"leftanti\").show()\n",
    "\n",
    "# Left outer or Left\n",
    "df1.join(df2,df1.empid == df2.empid,\"left\")\\\n",
    ".select(df1.empid,df1.empname,df2.country) \\\n",
    ".sort(df2.country.desc()) \\\n",
    ".show()\n",
    "\n",
    "# full outer\n",
    "df1.join(df2,df1.empid == df2.empid,\"full\")\\\n",
    ".select(df1.empid,df1.empname,df2.country) \\\n",
    ".sort(df1.empid.asc()) \\\n",
    ".show()"
   ]
  },
  {
   "cell_type": "code",
   "execution_count": 17,
   "id": "fbebd087",
   "metadata": {
    "execution": {
     "iopub.execute_input": "2023-06-16T11:08:36.486017Z",
     "iopub.status.busy": "2023-06-16T11:08:36.485269Z",
     "iopub.status.idle": "2023-06-16T11:08:37.710868Z",
     "shell.execute_reply": "2023-06-16T11:08:37.710047Z"
    },
    "papermill": {
     "duration": 1.249958,
     "end_time": "2023-06-16T11:08:37.713228",
     "exception": false,
     "start_time": "2023-06-16T11:08:36.463270",
     "status": "completed"
    },
    "tags": []
   },
   "outputs": [
    {
     "name": "stdout",
     "output_type": "stream",
     "text": [
      "+-----+-------+---------+\n",
      "|empid|empname|managerid|\n",
      "+-----+-------+---------+\n",
      "|    1| Robert|        2|\n",
      "|    2|    Ria|        3|\n",
      "|    3|  James|        5|\n",
      "+-----+-------+---------+\n",
      "\n",
      "+----------+------------+---------+-----------+\n",
      "|EmployeeID|EmployeeName|ManagerID|ManagerName|\n",
      "+----------+------------+---------+-----------+\n",
      "|         1|      Robert|        2|        Ria|\n",
      "|         2|         Ria|        3|      James|\n",
      "+----------+------------+---------+-----------+\n",
      "\n"
     ]
    }
   ],
   "source": [
    "# self\n",
    "\n",
    "df1 = spark.createDataFrame(data=((1,'Robert',2),(2,'Ria',3),(3,'James',5)),schema='empid int,empname string,managerid int')\n",
    "df1.show()\n",
    "df1.alias(\"emp1\").join(df1.alias(\"emp2\"),col(\"emp1.managerid\") == col(\"emp2.empid\"))\\\n",
    ".select(col(\"emp1.empid\").alias(\"EmployeeID\"),col(\"emp1.empname\").alias(\"EmployeeName\"),col(\"emp2.empid\").alias(\"ManagerID\"),col(\"emp2.empname\").alias(\"ManagerName\")) \\\n",
    ".show()"
   ]
  },
  {
   "cell_type": "code",
   "execution_count": null,
   "id": "a9374329",
   "metadata": {
    "papermill": {
     "duration": 0.017707,
     "end_time": "2023-06-16T11:08:37.752714",
     "exception": false,
     "start_time": "2023-06-16T11:08:37.735007",
     "status": "completed"
    },
    "tags": []
   },
   "outputs": [],
   "source": []
  },
  {
   "cell_type": "code",
   "execution_count": null,
   "id": "0b658a19",
   "metadata": {
    "papermill": {
     "duration": 0.014433,
     "end_time": "2023-06-16T11:08:37.783224",
     "exception": false,
     "start_time": "2023-06-16T11:08:37.768791",
     "status": "completed"
    },
    "tags": []
   },
   "outputs": [],
   "source": []
  },
  {
   "cell_type": "code",
   "execution_count": null,
   "id": "e35e1b75",
   "metadata": {
    "papermill": {
     "duration": 0.01428,
     "end_time": "2023-06-16T11:08:37.812312",
     "exception": false,
     "start_time": "2023-06-16T11:08:37.798032",
     "status": "completed"
    },
    "tags": []
   },
   "outputs": [],
   "source": []
  },
  {
   "cell_type": "code",
   "execution_count": null,
   "id": "9fd01ad0",
   "metadata": {
    "papermill": {
     "duration": 0.015444,
     "end_time": "2023-06-16T11:08:37.842302",
     "exception": false,
     "start_time": "2023-06-16T11:08:37.826858",
     "status": "completed"
    },
    "tags": []
   },
   "outputs": [],
   "source": []
  },
  {
   "cell_type": "code",
   "execution_count": null,
   "id": "b7505b14",
   "metadata": {
    "papermill": {
     "duration": 0.015391,
     "end_time": "2023-06-16T11:08:37.873184",
     "exception": false,
     "start_time": "2023-06-16T11:08:37.857793",
     "status": "completed"
    },
    "tags": []
   },
   "outputs": [],
   "source": []
  },
  {
   "cell_type": "code",
   "execution_count": null,
   "id": "5eead5cb",
   "metadata": {
    "papermill": {
     "duration": 0.014938,
     "end_time": "2023-06-16T11:08:37.903122",
     "exception": false,
     "start_time": "2023-06-16T11:08:37.888184",
     "status": "completed"
    },
    "tags": []
   },
   "outputs": [],
   "source": []
  },
  {
   "cell_type": "code",
   "execution_count": null,
   "id": "75b97f7a",
   "metadata": {
    "papermill": {
     "duration": 0.014522,
     "end_time": "2023-06-16T11:08:37.932751",
     "exception": false,
     "start_time": "2023-06-16T11:08:37.918229",
     "status": "completed"
    },
    "tags": []
   },
   "outputs": [],
   "source": []
  },
  {
   "cell_type": "code",
   "execution_count": null,
   "id": "9666dd96",
   "metadata": {
    "papermill": {
     "duration": 0.014945,
     "end_time": "2023-06-16T11:08:37.962486",
     "exception": false,
     "start_time": "2023-06-16T11:08:37.947541",
     "status": "completed"
    },
    "tags": []
   },
   "outputs": [],
   "source": []
  },
  {
   "cell_type": "code",
   "execution_count": null,
   "id": "0d4510de",
   "metadata": {
    "papermill": {
     "duration": 0.015794,
     "end_time": "2023-06-16T11:08:37.993502",
     "exception": false,
     "start_time": "2023-06-16T11:08:37.977708",
     "status": "completed"
    },
    "tags": []
   },
   "outputs": [],
   "source": []
  },
  {
   "cell_type": "code",
   "execution_count": null,
   "id": "4da0c6aa",
   "metadata": {
    "papermill": {
     "duration": 0.014849,
     "end_time": "2023-06-16T11:08:38.023828",
     "exception": false,
     "start_time": "2023-06-16T11:08:38.008979",
     "status": "completed"
    },
    "tags": []
   },
   "outputs": [],
   "source": []
  },
  {
   "cell_type": "code",
   "execution_count": null,
   "id": "1a8a8ff9",
   "metadata": {
    "papermill": {
     "duration": 0.014389,
     "end_time": "2023-06-16T11:08:38.052885",
     "exception": false,
     "start_time": "2023-06-16T11:08:38.038496",
     "status": "completed"
    },
    "tags": []
   },
   "outputs": [],
   "source": []
  },
  {
   "cell_type": "code",
   "execution_count": null,
   "id": "ab2b9b87",
   "metadata": {
    "papermill": {
     "duration": 0.0143,
     "end_time": "2023-06-16T11:08:38.082279",
     "exception": false,
     "start_time": "2023-06-16T11:08:38.067979",
     "status": "completed"
    },
    "tags": []
   },
   "outputs": [],
   "source": []
  },
  {
   "cell_type": "code",
   "execution_count": null,
   "id": "e44d01b9",
   "metadata": {
    "papermill": {
     "duration": 0.014581,
     "end_time": "2023-06-16T11:08:38.111171",
     "exception": false,
     "start_time": "2023-06-16T11:08:38.096590",
     "status": "completed"
    },
    "tags": []
   },
   "outputs": [],
   "source": []
  }
 ],
 "metadata": {
  "kernelspec": {
   "display_name": "Python 3",
   "language": "python",
   "name": "python3"
  },
  "language_info": {
   "codemirror_mode": {
    "name": "ipython",
    "version": 3
   },
   "file_extension": ".py",
   "mimetype": "text/x-python",
   "name": "python",
   "nbconvert_exporter": "python",
   "pygments_lexer": "ipython3",
   "version": "3.10.10"
  },
  "papermill": {
   "default_parameters": {},
   "duration": 78.769149,
   "end_time": "2023-06-16T11:08:40.747496",
   "environment_variables": {},
   "exception": null,
   "input_path": "__notebook__.ipynb",
   "output_path": "__notebook__.ipynb",
   "parameters": {},
   "start_time": "2023-06-16T11:07:21.978347",
   "version": "2.4.0"
  }
 },
 "nbformat": 4,
 "nbformat_minor": 5
}
